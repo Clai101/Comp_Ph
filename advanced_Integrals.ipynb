{
 "cells": [
  {
   "cell_type": "markdown",
   "metadata": {},
   "source": [
    "Before you turn this problem in, make sure everything runs as expected. First, **restart the kernel** (in the menubar, select Kernel$\\rightarrow$Restart) and then **run all cells** (in the menubar, select Cell$\\rightarrow$Run All).\n",
    "\n",
    "Make sure you fill in any place that says `YOUR CODE HERE` or \"YOUR ANSWER HERE\", as well as your github nickname below:"
   ]
  },
  {
   "cell_type": "code",
   "execution_count": 1,
   "metadata": {},
   "outputs": [],
   "source": [
    "NICKNAME =  \"Clai101\""
   ]
  },
  {
   "cell_type": "markdown",
   "metadata": {},
   "source": [
    "---"
   ]
  },
  {
   "cell_type": "markdown",
   "metadata": {
    "deletable": false,
    "editable": false,
    "heading_collapsed": true,
    "nbgrader": {
     "cell_type": "markdown",
     "checksum": "dae37096cb69d9308fedfcc04f2dc929",
     "grade": false,
     "grade_id": "cell-2458024e3a3efd4c",
     "locked": true,
     "schema_version": 3,
     "solution": false,
     "task": false
    }
   },
   "source": [
    "# Часть 1. Гауссовы квадратуры\n",
    "\n",
    "Метод Гауссовых квадратур является одним из методов численного интегрирования, который позволяет увеличить точность интегрирования, используя ортогональные полиномы и их корни в качестве узлов.\n",
    "\n",
    "$$\n",
    "\\int_a^b \\!  w(x)\\, f(x)\\, dx \\approx \\sum_{k=1}^n w_k \\, f(x_k) \\;,\n",
    "$$\n",
    "\n",
    "здесь $\\omega$ - функция весов, которая определят базис ортогональных полиномов, чьи корни используются в качестве узлов интегрирования. \n",
    "\n",
    "Получаемая таким образом квадратурная схема *точно* инегрирует $f(x)$ если это полином степени $m\\le2n-1$, где $n$ - степень полинома, корни которого используются в качестве узлов."
   ]
  },
  {
   "cell_type": "markdown",
   "metadata": {
    "deletable": false,
    "editable": false,
    "heading_collapsed": true,
    "hidden": true,
    "nbgrader": {
     "cell_type": "markdown",
     "checksum": "775042397203e9bde8901fc67df64a80",
     "grade": false,
     "grade_id": "cell-fc379192341494d5",
     "locked": true,
     "schema_version": 3,
     "solution": false,
     "task": false
    }
   },
   "source": [
    "## Двухточечная квадратура Гаусса\n",
    "\n",
    "Постройте квадратурную формулу Гаусса, интегрирующую точно многочлены степеней вплоть до третьей на интервале $[a, b]$. Заметим, что для этого достаточно построить _двухточечную_ квадратуру.\n",
    "\n",
    "    hint:Легко найти точки и веса для отрезка [-1,1], после чего можно сделать аффинное преобразование..\n",
    "\n",
    "Напишите функцию, которая возвращает веса, $w_1$ и $w_2$, и узлы, $x_1$ и $x_2$, двухточечной квадратурной формулы Гаусса с весовой функцией $w(x) = 1$, т.е., интегралы вида\n",
    "\n",
    "$$\n",
    "\\int_a^b\\! f(x)\\, dx \\approx w_1 f(x_1) + w_2 f(x_2)\n",
    "$$"
   ]
  },
  {
   "cell_type": "code",
   "execution_count": 5,
   "metadata": {
    "deletable": false,
    "hidden": true,
    "nbgrader": {
     "cell_type": "code",
     "checksum": "904166366d67e67506e3087dd19ce395",
     "grade": false,
     "grade_id": "cell-cf3c018fa371396b",
     "locked": false,
     "schema_version": 3,
     "solution": true,
     "task": false
    }
   },
   "outputs": [],
   "source": [
    "def gauss_2(a, b):\n",
    "    x1 = (a + b) / 2 - (b - a) * (1 / 3)**0.5 / 2\n",
    "    x2 = (a + b) / 2 + (b - a) * (1 / 3)**0.5 / 2\n",
    "    return  x1, x2, (b - a) / 2, (b - a) / 2 "
   ]
  },
  {
   "cell_type": "code",
   "execution_count": 6,
   "metadata": {
    "deletable": false,
    "editable": false,
    "hidden": true,
    "nbgrader": {
     "cell_type": "code",
     "checksum": "0359e8b293f2fb6d01a58c9fedf8394d",
     "grade": true,
     "grade_id": "cell-b6739a7f6045a9ec",
     "locked": true,
     "points": 5,
     "schema_version": 3,
     "solution": false,
     "task": false
    }
   },
   "outputs": [],
   "source": [
    "from numpy.testing import assert_allclose\n",
    "\n",
    "x1, x2, w1, w2 = gauss_2(0, 1)\n",
    "\n",
    "def f(x, n): \n",
    "    return x**n\n",
    "\n",
    "for n in [0, 1, 2, 3]:\n",
    "    assert_allclose(w1*f(x1, n=n) + w2*f(x2, n=n),\n",
    "                    1./(n+1), atol=1e-14)"
   ]
  },
  {
   "cell_type": "markdown",
   "metadata": {
    "deletable": false,
    "editable": false,
    "heading_collapsed": true,
    "hidden": true,
    "nbgrader": {
     "cell_type": "markdown",
     "checksum": "c5f8b30020145459fde89f8633497e81",
     "grade": false,
     "grade_id": "cell-e8c64d5ac1bfac1e",
     "locked": true,
     "schema_version": 3,
     "solution": false,
     "task": false
    }
   },
   "source": [
    "## Использование ортогональных полиномов"
   ]
  },
  {
   "cell_type": "markdown",
   "metadata": {
    "deletable": false,
    "editable": false,
    "heading_collapsed": true,
    "hidden": true,
    "nbgrader": {
     "cell_type": "markdown",
     "checksum": "29bba00b9afe94a4031db5f2999cbfd3",
     "grade": false,
     "grade_id": "cell-fb434c4b7c784b46",
     "locked": true,
     "schema_version": 3,
     "solution": false,
     "task": false
    }
   },
   "source": [
    "### Legendre"
   ]
  },
  {
   "attachments": {},
   "cell_type": "markdown",
   "metadata": {
    "deletable": false,
    "editable": false,
    "hidden": true,
    "nbgrader": {
     "cell_type": "markdown",
     "checksum": "b34d43a5ea949551d5f49894016354bc",
     "grade": false,
     "grade_id": "cell-8e5c8d092b20a000",
     "locked": true,
     "schema_version": 3,
     "solution": false,
     "task": false
    }
   },
   "source": [
    "Теперь посчитаем следующий интеграл:\n",
    "\n",
    "$$\n",
    "\\int_{-1}^1 (7x^3 - 8 x^2 - 3 x + 3) dx  \\label{eq1} \\tag{1}\n",
    "$$\n",
    "\n",
    "Здесь функция уже полиномиальна, поэтому возьмем весовую функцию $\\omega(x) = 1$. Тогда вычисление интеграла сводится к сумме корней полинома, соответствующих весовой функции $\\omega(x) = 1$. Например, здесь https://dlmf.nist.gov/18.3 вы можете увидеть, какой базис полиномов соответствует вашей весовой функции.\n",
    "\n",
    "Заметим, что нашей соответствуют полиномы Лежандра. Теперь, зайдем в документацию https://docs.scipy.org/doc/scipy/reference/special.html#orthogonal-polynomials. Функция *roots_legendre* сразу же выдаст корни полиномов Лежандра, а также веса к их корням (для полиномов Лежандра все эти веса равны единице)."
   ]
  },
  {
   "cell_type": "markdown",
   "metadata": {
    "deletable": false,
    "editable": false,
    "hidden": true,
    "nbgrader": {
     "cell_type": "markdown",
     "checksum": "037083acc46d40c85a54bc7331280cb9",
     "grade": false,
     "grade_id": "cell-a22c173af41a812e",
     "locked": true,
     "schema_version": 3,
     "solution": false,
     "task": false
    }
   },
   "source": [
    "1. Посчитайте точное значение интеграла ([1](#mjx-eqn-eq1)) \"руками\"."
   ]
  },
  {
   "cell_type": "code",
   "execution_count": 2,
   "metadata": {
    "deletable": false,
    "hidden": true,
    "nbgrader": {
     "cell_type": "code",
     "checksum": "2b6ac6e30a26e022387bdecd8fdd616f",
     "grade": true,
     "grade_id": "cell-16f3cafcd6f326e5",
     "locked": false,
     "points": 1,
     "schema_version": 3,
     "solution": true,
     "task": false
    }
   },
   "outputs": [
    {
     "name": "stdout",
     "output_type": "stream",
     "text": [
      "0.6666666666666674\n"
     ]
    }
   ],
   "source": [
    "F = lambda x: 7/4*x**4 - 8/3*x**3 - 3/2 * x**2 + 3 *x\n",
    "print(F(1)-F(-1))"
   ]
  },
  {
   "cell_type": "markdown",
   "metadata": {
    "deletable": false,
    "editable": false,
    "hidden": true,
    "nbgrader": {
     "cell_type": "markdown",
     "checksum": "c44b7f4761eba9c6e36ed4a20ce8d0ad",
     "grade": false,
     "grade_id": "cell-948b60507b24e367",
     "locked": true,
     "schema_version": 3,
     "solution": false,
     "task": false
    }
   },
   "source": [
    "2. Посчитайте значение интеграла ([1](#mjx-eqn-eq1)), используя обычный метод интегрирования на равномерной сетке (например, написанный вами в предыдущем дз). Оцените количество узлов, необходимых для достижения относительной точности $10^{-10}$."
   ]
  },
  {
   "cell_type": "code",
   "execution_count": 3,
   "metadata": {
    "deletable": false,
    "hidden": true,
    "nbgrader": {
     "cell_type": "code",
     "checksum": "bd115dffeda241a3731fd014860b2716",
     "grade": true,
     "grade_id": "cell-7790db31d641a7db",
     "locked": false,
     "points": 1,
     "schema_version": 3,
     "solution": true,
     "task": false
    }
   },
   "outputs": [
    {
     "data": {
      "text/plain": [
       "(0.6666666666749999, 799996)"
      ]
     },
     "execution_count": 3,
     "metadata": {},
     "output_type": "execute_result"
    }
   ],
   "source": [
    "import numpy as np\n",
    "f = lambda x: 7 * x ** 3 - 8 * x ** 2 - 3 * x + 3\n",
    "def midpoint_rule(f, a, b, eps):\n",
    "    def i(a, b, n):\n",
    "            d = (b - a) / n\n",
    "            return np.sum(np.array([d * f(a + (j + 0.5) * d) for j in range(n)]))\n",
    "\n",
    "    n = int((b - a) / eps ** 0.5)\n",
    "    i1 = i(a,b,n)\n",
    "    while True: \n",
    "        i2 = i(a,b,2 * n)\n",
    "        if abs(i2 - i1) < eps:\n",
    "            return i2, n * 2 \n",
    "        i1 = i2 \n",
    "        n *= 2\n",
    "\n",
    "\n",
    "value, N = midpoint_rule(f, -1, 1, eps=1e-10)\n",
    "value, N"
   ]
  },
  {
   "cell_type": "markdown",
   "metadata": {
    "deletable": false,
    "editable": false,
    "hidden": true,
    "nbgrader": {
     "cell_type": "markdown",
     "checksum": "f6dabecd2b5598369b254d25c762df09",
     "grade": false,
     "grade_id": "cell-f088101355d78922",
     "locked": true,
     "schema_version": 3,
     "solution": false,
     "task": false
    }
   },
   "source": [
    "3. Посчитайте значение интеграла ([1](#mjx-eqn-eq1)), с помощью Гауссовой квадратуры (используя корни полинома Лежандра степени от 1 до 6 в качестве узлов) (чтобы получить корни и веса используйте scipy.special.roots_legendre)"
   ]
  },
  {
   "cell_type": "code",
   "execution_count": 4,
   "metadata": {
    "deletable": false,
    "hidden": true,
    "nbgrader": {
     "cell_type": "code",
     "checksum": "e856289f89873d2dd62b4d05b7964881",
     "grade": true,
     "grade_id": "cell-6dc2ce8d5be0a99c",
     "locked": false,
     "points": 1,
     "schema_version": 3,
     "solution": true,
     "task": false
    }
   },
   "outputs": [
    {
     "name": "stdout",
     "output_type": "stream",
     "text": [
      "Степень: 1, int = 6.0\n",
      "Степень: 2, int = 0.6666666666666674\n",
      "Степень: 3, int = 0.6666666666666639\n",
      "Степень: 4, int = 0.6666666666666667\n",
      "Степень: 5, int = 0.6666666666666685\n",
      "Степень: 6, int = 0.6666666666666695\n"
     ]
    }
   ],
   "source": [
    "from scipy.special import roots_legendre\n",
    "for i in range(6):\n",
    "    n, w = roots_legendre(i + 1)\n",
    "    print(f\"Степень: {i + 1}, int = {f(n) @ w}\")"
   ]
  },
  {
   "cell_type": "markdown",
   "metadata": {
    "deletable": false,
    "editable": false,
    "hidden": true,
    "nbgrader": {
     "cell_type": "markdown",
     "checksum": "7efb7260ef67ce819ece51a1140ae13c",
     "grade": false,
     "grade_id": "cell-c91608154cad03e1",
     "locked": true,
     "schema_version": 3,
     "solution": false,
     "task": false
    }
   },
   "source": [
    "Сравните количество узлов, необходимых для достижения одинаковой точности в обоих чисенных методах."
   ]
  },
  {
   "cell_type": "code",
   "execution_count": 5,
   "metadata": {
    "deletable": false,
    "hidden": true,
    "nbgrader": {
     "cell_type": "code",
     "checksum": "43552b414f9a368c005cc81189908d28",
     "grade": true,
     "grade_id": "cell-16d11da2a52ec8c0",
     "locked": false,
     "points": 1,
     "schema_version": 3,
     "solution": true,
     "task": false
    }
   },
   "outputs": [
    {
     "name": "stdout",
     "output_type": "stream",
     "text": [
      "Ошибка: 0.1\n",
      "узлов Гаусса: 2, узлов методом центральной точки: 24\n",
      "\n",
      "Ошибка: 0.01\n",
      "узлов Гаусса: 2, узлов методом центральной точки: 40\n",
      "\n",
      "Ошибка: 0.001\n",
      "узлов Гаусса: 2, узлов методом центральной точки: 252\n",
      "\n",
      "Ошибка: 0.0001\n",
      "узлов Гаусса: 2, узлов методом центральной точки: 800\n",
      "\n"
     ]
    }
   ],
   "source": [
    "F = lambda x: 7/4*x**4 - 8/3*x**3 - 3/2 * x**2 + 3 *x\n",
    "f = lambda x: 7 * x ** 3 - 8 * x ** 2 - 3 * x + 3\n",
    "real_ans = F(1)-F(-1)\n",
    "\n",
    "def legendre(func, eps):\n",
    "    n = 0\n",
    "    i = 0\n",
    "    while abs(real_ans - i) > real_ans * eps:\n",
    "            n += 1\n",
    "            nodes, weights = roots_legendre(n)\n",
    "            i = func(nodes) @ weights\n",
    "    return i, n\n",
    "\n",
    "for i in range(1, 5):\n",
    "    eps = 10 ** (-i)\n",
    "    _, n1 = legendre(f, eps)\n",
    "    _, n2 = midpoint_rule(f, -1, 1, eps)\n",
    "    \n",
    "    print(f\"Ошибка: {eps}\")\n",
    "    print(f\"узлов Гаусса: {n1}, узлов методом центральной точки: {n2}\\n\")"
   ]
  },
  {
   "cell_type": "markdown",
   "metadata": {
    "deletable": false,
    "editable": false,
    "hidden": true,
    "nbgrader": {
     "cell_type": "markdown",
     "checksum": "5b464089f419aba26b8917d6a50b5533",
     "grade": false,
     "grade_id": "cell-90f6342d2fe72d9b",
     "locked": true,
     "schema_version": 3,
     "solution": false,
     "task": false
    }
   },
   "source": [
    "\n",
    "Вычислите значение того же интеграла, но на интервале от 0 до 10.\n",
    "\n",
    "$$\n",
    "\\int_{0}^{10} (7x^3 - 8 x^2 - 3 x + 3) dx \n",
    "$$\n",
    "\n",
    "Заметим, что больше нельзя использовать полиномы Лежанда, потому что они определены на интервале (-1, 1). Однако всегда можно произвести *аффинное преобразование* для того, чтобы перейти к желаемой системе координат.\n",
    "\n",
    "(20% итоговой оценки)"
   ]
  },
  {
   "cell_type": "code",
   "execution_count": 6,
   "metadata": {
    "deletable": false,
    "hidden": true,
    "nbgrader": {
     "cell_type": "code",
     "checksum": "ecbb9c326dedcff540534ea083ac90d7",
     "grade": true,
     "grade_id": "cell-000ec6abd35fcdd9",
     "locked": false,
     "points": 2,
     "schema_version": 3,
     "solution": true,
     "task": false
    }
   },
   "outputs": [
    {
     "name": "stdout",
     "output_type": "stream",
     "text": [
      "14713.333333333334\n"
     ]
    }
   ],
   "source": [
    "n, w = roots_legendre(6)\n",
    "print(5 * f(5 * n + 5) @ w)"
   ]
  },
  {
   "cell_type": "markdown",
   "metadata": {
    "deletable": false,
    "editable": false,
    "hidden": true,
    "nbgrader": {
     "cell_type": "markdown",
     "checksum": "fecefb6e3a941594b03ce8c9abc97370",
     "grade": false,
     "grade_id": "cell-dc53e776f48381a8",
     "locked": true,
     "schema_version": 3,
     "solution": false,
     "task": false
    }
   },
   "source": [
    "Сравните результат с точным значением интеграла."
   ]
  },
  {
   "cell_type": "markdown",
   "metadata": {
    "deletable": false,
    "hidden": true,
    "nbgrader": {
     "cell_type": "markdown",
     "checksum": "dca43a77feb14bb6c6ed16db35ff40dd",
     "grade": true,
     "grade_id": "cell-05021cdd64e858e1",
     "locked": false,
     "points": 2,
     "schema_version": 3,
     "solution": true,
     "task": false
    }
   },
   "source": [
    "YOUR ANSWER HERE"
   ]
  },
  {
   "cell_type": "markdown",
   "metadata": {
    "deletable": false,
    "editable": false,
    "heading_collapsed": true,
    "hidden": true,
    "nbgrader": {
     "cell_type": "markdown",
     "checksum": "f12bff0315d6af95982b633bfa67cecc",
     "grade": false,
     "grade_id": "cell-ca98b358d26e8b43",
     "locked": true,
     "schema_version": 3,
     "solution": false,
     "task": false
    }
   },
   "source": [
    "### \n",
    "\n",
    "Вычислите значение следующиего интеграла:\n",
    "$$\n",
    "\\int_{0}^{2\\pi} \\frac{cos(x) dx }{\\sqrt{4\\pi^2 - x^2}}\n",
    "$$\n",
    "используя соответствующий базис ортогональных полиномов.\n",
    "Найдите степень полинома (количество узлов), при которой точность превысит машинное $\\epsilon$.\n"
   ]
  },
  {
   "cell_type": "code",
   "execution_count": 7,
   "metadata": {
    "deletable": false,
    "hidden": true,
    "nbgrader": {
     "cell_type": "code",
     "checksum": "d9b01518a9d8e7c760eb991dc9f214af",
     "grade": true,
     "grade_id": "cell-6d27cbe45695ad3b",
     "locked": false,
     "points": 5,
     "schema_version": 3,
     "solution": true,
     "task": false
    }
   },
   "outputs": [
    {
     "name": "stdout",
     "output_type": "stream",
     "text": [
      "0.3460101588122642\n",
      "Степень 16\n"
     ]
    }
   ],
   "source": [
    "from scipy.special import roots_chebyt\n",
    "f = lambda y: np.cos(2 * np.pi *  y) / 2\n",
    "eps = 1e-16\n",
    "ans = 1\n",
    "pans = 0\n",
    "i = 1\n",
    "while abs(ans - pans) > eps:\n",
    "    i += 1\n",
    "    pans = ans\n",
    "    n, w = roots_chebyt(i)\n",
    "    ans = f(n) @ w\n",
    "\n",
    "print(ans)\n",
    "print(f\"Степень {i}\")\n"
   ]
  },
  {
   "cell_type": "markdown",
   "metadata": {
    "deletable": false,
    "editable": false,
    "heading_collapsed": true,
    "nbgrader": {
     "cell_type": "markdown",
     "checksum": "bd74aa881e284f20c1aae900f86db9a2",
     "grade": false,
     "grade_id": "cell-acdd1eabc208c54c",
     "locked": true,
     "schema_version": 3,
     "solution": false,
     "task": false
    }
   },
   "source": [
    "# Часть 2. Уравение Фредгольма\n",
    "\n",
    "Существует два типа уравнений Фредгольма: \n",
    "\n",
    "1. Уравение Фредгольма первого рода:\n",
    "$$\n",
    "\\int_a^b \\! K(x, t)\\, \\color{blue}{f(t)} \\,dt = g(x)\n",
    "$$\n",
    "\n",
    "2. Уравнение Фредгольма второго рода:\n",
    "$$\n",
    "\\lambda \\int_a^b\\! K(x, t)\\, \\color{blue}{f(t)} \\, dt + g(x) = \\color{blue}{f(x)}\n",
    "$$\n",
    "\n",
    "Здесь функция $f(x)$ неизвестна, $K(x, t)$ - ядро уравнения, заданная функция $g(x)$ и $\\lambda$ - рациональное число.\n",
    "С точки зрения вычислений, уравение Фредгольма первого рода крайне неустойчиво. Далее мы рассмотрим только уравнение второго рода."
   ]
  },
  {
   "cell_type": "markdown",
   "metadata": {
    "deletable": false,
    "editable": false,
    "hidden": true,
    "nbgrader": {
     "cell_type": "markdown",
     "checksum": "a9628395f1d23de5cc15e5e1c381375e",
     "grade": false,
     "grade_id": "cell-36ee7577a4e0dc70",
     "locked": true,
     "schema_version": 3,
     "solution": false,
     "task": false
    }
   },
   "source": [
    "Основная идея - аппроксимировать интеграл некой квадратурной формулой\n",
    "\n",
    "$$\n",
    "\\int_a^b \\! \\xi(t)\\, dt \\approx \\sum_j^N w_j\\, \\xi(t_j)\n",
    "$$\n",
    "\n",
    "с подходящими весами $w_j$ и узлами $t_j$, $j=1, \\dots, N$. Точность аппроксимации контролируется $N$."
   ]
  },
  {
   "cell_type": "markdown",
   "metadata": {
    "deletable": false,
    "editable": false,
    "hidden": true,
    "nbgrader": {
     "cell_type": "markdown",
     "checksum": "a74f70c8935aafb7c5b437c8f5112906",
     "grade": false,
     "grade_id": "cell-0f6dbee289827a84",
     "locked": true,
     "schema_version": 3,
     "solution": false,
     "task": false
    }
   },
   "source": [
    "Таким образом, уравнение Фредгольма приближается следующим образом:\n",
    "\n",
    "$$\n",
    "\\lambda \\sum_j w_j\\, K(x, t_j)\\, \\color{blue}{f(t_j)} + g(x) = \\color{blue}{f(x)}\n",
    "$$\n",
    "\n",
    "Отметим, что $x$ - непрерывная переменная, в то время, как $t$ - дискретная."
   ]
  },
  {
   "cell_type": "markdown",
   "metadata": {
    "deletable": false,
    "editable": false,
    "hidden": true,
    "nbgrader": {
     "cell_type": "markdown",
     "checksum": "bbae1dde3d73ef7f88a463b46ef347e3",
     "grade": false,
     "grade_id": "cell-d25f3a12e14deb3e",
     "locked": true,
     "schema_version": 3,
     "solution": false,
     "task": false
    }
   },
   "source": [
    "Рассматривая данное уравнение на тех же узлах сетки $x = t_k$, получаем\n",
    "\n",
    "$$\n",
    "\\lambda \\sum_j w_j \\, K_{k, j}\\, \\color{blue}{f_j} + g_k = \\color{blue}{f_k}\n",
    "$$\n",
    "\n",
    "где $f_j \\equiv f(t_j)$, $g_j \\equiv g(t_j)$ and $K_{k, j} \\equiv K(t_k, t_j)$. Это ничто иное, как система линейных алгебраических уравнений на вектор $\\color{blue}{f_j}$.\n",
    "\n",
    "Ее решение выдает значение неизвестной функции $f(x)$ в дискретных точках $x=t_j$ для $j=1, \\dots, N$."
   ]
  },
  {
   "cell_type": "markdown",
   "metadata": {
    "deletable": false,
    "editable": false,
    "hidden": true,
    "nbgrader": {
     "cell_type": "markdown",
     "checksum": "d181e448b52543b8da4c5c4499aa45cf",
     "grade": false,
     "grade_id": "cell-7c2ff82c3137923b",
     "locked": true,
     "schema_version": 3,
     "solution": false,
     "task": false
    }
   },
   "source": [
    "\n",
    "Решите предложенное уравнение Фредгольма второго рода\n",
    "\n",
    "$$\n",
    "f(x) = \\cos(x)  + \\frac{1}{2\\pi} \\int_0^\\pi \\! \\sin(x) \\,t f(t) \\, dt\n",
    "$$\n",
    "\n",
    "Здесь $a, b = 0, 1$, $\\lambda = \\dfrac{1}{2\\pi}$, ядро $K(x, t) = \\sin(x)\\cdot t$ и правая часть - $g(x) = \\cos(x)$.\n",
    "\n",
    "Точное решение (Сборник задач по интегральным уравнениям, 2006):\n",
    "\n",
    "$$\n",
    "f(x) = \\cos(x)- \\frac{2}{\\pi}\\sin(x)\n",
    "$$"
   ]
  },
  {
   "cell_type": "markdown",
   "metadata": {
    "deletable": false,
    "editable": false,
    "hidden": true,
    "nbgrader": {
     "cell_type": "markdown",
     "checksum": "bab482b2121658773bed1c35ed3e9692",
     "grade": false,
     "grade_id": "cell-0686a98da0e5aabb",
     "locked": true,
     "schema_version": 3,
     "solution": false,
     "task": false
    }
   },
   "source": [
    "Для нахождения интеграла преобразуйте заменой переменных в интеграле область интегрирования в [0,1] воспользуйтесь Гауссовой квадратурой с весовой функцией $w(x) = 1$ на $(0, 1)$. Посмотрите на http://dlmf.nist.gov/18.3, и найдите соответствующую функцию в *scipy.special* (обратите внимание на область интегрирования).\n",
    "\n",
    "Напишите функцию, возвращающую значение f(t_j) по схеме выше, которая в качестве параметра принимает величину $N$--число узлов в квадратуре, для нахождение решения СЛАУ можно использовать `scipy.linalg.solve`.\n",
    "\n",
    "Постройте график истинного решения и набор (t_j, f_j) для раличных $N$, используя вашу функцию."
   ]
  },
  {
   "cell_type": "code",
   "execution_count": 49,
   "metadata": {
    "deletable": false,
    "hidden": true,
    "nbgrader": {
     "cell_type": "code",
     "checksum": "8ef0119a4fa579caf3c668ffbcb89691",
     "grade": true,
     "grade_id": "cell-5b344dd355335170",
     "locked": false,
     "points": 5,
     "schema_version": 3,
     "solution": true,
     "task": false
    }
   },
   "outputs": [
    {
     "data": {
      "text/plain": [
       "<matplotlib.legend.Legend at 0x19906da0bc8>"
      ]
     },
     "execution_count": 49,
     "metadata": {},
     "output_type": "execute_result"
    },
    {
     "data": {
      "image/png": "[encoded data removed]",
      "text/plain": [
       "<Figure size 640x480 with 1 Axes>"
      ]
     },
     "metadata": {},
     "output_type": "display_data"
    }
   ],
   "source": [
    "from scipy.special import roots_sh_legendre\n",
    "from scipy.linalg import solve\n",
    "import matplotlib.pyplot as plt\n",
    "\n",
    "def fun(N):\n",
    "    n, w = roots_sh_legendre(N)\n",
    "    l = np.pi * 0.5\n",
    "    K = lambda t_k, t_j: np.sin(np.pi * t_k) * t_j\n",
    "    g = lambda x: np.cos(np.pi * x)\n",
    "    I = np.eye(N)\n",
    "    matrix_K = l * np.asarray([w * K(t_k, n) for t_k in n]) - I\n",
    "    matrix_minus_g = - g(n)\n",
    "    f = solve(matrix_K, matrix_minus_g)\n",
    "    return f\n",
    "\n",
    "for N in range(2, 12, 3):\n",
    "    roots, w = roots_sh_legendre(N)\n",
    "    x = roots * np.pi\n",
    "    f = fun(N)\n",
    "    plt.plot(x, f, label=f'$N = {N}$')\n",
    "real_f = lambda x: np.cos(x) - (2 / np.pi) * np.sin(x)\n",
    "x = np.linspace(0, np.pi, 100)\n",
    "plt.plot(x, real_f(x), label='Real')\n",
    "plt.legend()"
   ]
  },
  {
   "cell_type": "markdown",
   "metadata": {
    "deletable": false,
    "editable": false,
    "hidden": true,
    "nbgrader": {
     "cell_type": "markdown",
     "checksum": "f6cd5427e76b1f02f0a5bca71daabf2f",
     "grade": false,
     "grade_id": "cell-72937e0192d8f26e",
     "locked": true,
     "schema_version": 3,
     "solution": false,
     "task": false
    }
   },
   "source": [
    "Очевидной проблемой предыдущего результата для $f(x)$ является то, что он возвращает решения на фиксированном наборе точек. Мы не контролируем их расположение.\n",
    "\n",
    "Оказывается, интерполяционные методы (мы обсудим их на следующих занятиях) работают не очень хорошо, в сравнении с следующим подходом:"
   ]
  },
  {
   "cell_type": "markdown",
   "metadata": {
    "deletable": false,
    "editable": false,
    "hidden": true,
    "nbgrader": {
     "cell_type": "markdown",
     "checksum": "0d6c47a9858013151f2ddbac99976258",
     "grade": false,
     "grade_id": "cell-eb09876399147c69",
     "locked": true,
     "schema_version": 3,
     "solution": false,
     "task": false
    }
   },
   "source": [
    "Используйте изначальный вид, чтобы вычислить значение функции на всём интервале:\n",
    "\n",
    "$$\n",
    "f(x) = g(x) + \\lambda \\sum_j^N w_j\\, K(x, t_j)\\, f(t_j)\n",
    "$$\n",
    "\n",
    "Сравните эту интерполяцию с точным решением для разлиных $N$.\n",
    "(выбирайте наглядный масштаб)"
   ]
  },
  {
   "cell_type": "code",
   "execution_count": 58,
   "metadata": {
    "deletable": false,
    "hidden": true,
    "nbgrader": {
     "cell_type": "code",
     "checksum": "6bdc45a399812573474d4e79d749a014",
     "grade": true,
     "grade_id": "cell-89229632156a22f0",
     "locked": false,
     "points": 2,
     "schema_version": 3,
     "solution": true,
     "task": false
    }
   },
   "outputs": [
    {
     "data": {
      "text/plain": [
       "<matplotlib.legend.Legend at 0x19906b42448>"
      ]
     },
     "execution_count": 58,
     "metadata": {},
     "output_type": "execute_result"
    },
    {
     "data": {
      "image/png": "[encoded data removed]",
      "text/plain": [
       "<Figure size 640x480 with 1 Axes>"
      ]
     },
     "metadata": {},
     "output_type": "display_data"
    }
   ],
   "source": [
    "sample = np.linspace(0, np.pi, 150)\n",
    "\n",
    "for i in range(0, 7, 1):\n",
    "    n, w = roots_sh_legendre(i + 1)\n",
    "    f_discret = fun(i + 1)\n",
    "    f = lambda x: np.cos(x) + np.pi / 2 * (w * np.sin(x, n) * f_discret).sum()\n",
    "    plt.plot(sample, [f(x) for x in sample], label=f\"N = {i + 1}\")\n",
    "\n",
    "plt.plot(sample, real_f(sample), label='Real')\n",
    "plt.legend()\n",
    "\n",
    "    "
   ]
  },
  {
   "cell_type": "markdown",
   "metadata": {
    "deletable": false,
    "editable": false,
    "heading_collapsed": true,
    "nbgrader": {
     "cell_type": "markdown",
     "checksum": "9d707bd9e18bbf023cddf791e05ae328",
     "grade": false,
     "grade_id": "cell-70721ae1c137e72e",
     "locked": true,
     "schema_version": 3,
     "solution": false,
     "task": false
    }
   },
   "source": [
    "# Часть 3. Интеграл от осциллирующей функции - EXTRA points task\n",
    "\n",
    "Рассмотрим определенный интеграл\n",
    "\n",
    "$$\n",
    "I = \\int_0^\\infty\\! \\frac{\\sin(x) \\cos{(\\cos{(x)})}}{x}\\,dx\n",
    "$$\n",
    "\n",
    "Вычислите значение данного интеграла с относительной точностью $10^{-6}$. Для упрощения задачи можете воспользоваться функционалом `scipy.integrate.quad`.\n",
    "\n",
    "Заметим, что \"из коробки\" интеграл вычислить не удается, и нужно что-то придумать."
   ]
  },
  {
   "cell_type": "code",
   "execution_count": 63,
   "metadata": {
    "ExecuteTime": {
     "end_time": "2022-10-31T20:25:23.757358Z",
     "start_time": "2022-10-31T20:25:23.138756Z"
    },
    "deletable": false,
    "editable": false,
    "hidden": true,
    "nbgrader": {
     "cell_type": "code",
     "checksum": "11f9ea8995c2fc47c6518788c1e3a53b",
     "grade": false,
     "grade_id": "cell-515f8f19764eb256",
     "locked": true,
     "schema_version": 3,
     "solution": false,
     "task": false
    }
   },
   "outputs": [
    {
     "name": "stderr",
     "output_type": "stream",
     "text": [
      "c:\\Users\\Xiaomi\\source\\repos\\PytHSEPr\\PytHSEPr\\HSE_inv\\lib\\site-packages\\ipykernel_launcher.py:4: IntegrationWarning: The integral is probably divergent, or slowly convergent.\n",
      "  after removing the cwd from sys.path.\n"
     ]
    },
    {
     "data": {
      "text/plain": [
       "0.8400929495808706"
      ]
     },
     "execution_count": 63,
     "metadata": {},
     "output_type": "execute_result"
    }
   ],
   "source": [
    "from math import sin, cos\n",
    "\n",
    "from scipy.integrate import quad\n",
    "quad(lambda x: sin(x) * cos(cos(x)) / x, 0, float('inf') )"
   ]
  },
  {
   "cell_type": "markdown",
   "metadata": {
    "deletable": false,
    "editable": false,
    "hidden": true,
    "nbgrader": {
     "cell_type": "markdown",
     "checksum": "53e2ba2b52667aada8dc1a7f43391ef4",
     "grade": false,
     "grade_id": "cell-e34178c9823af271",
     "locked": true,
     "schema_version": 3,
     "solution": false,
     "task": false
    }
   },
   "source": [
    "Напишите функцию, которая возвращает значение данного интеграла. Только само значение интеграла, без оценки погрешности.\n",
    "(оборачиваем интеграл в функцию только для удобства автопроверки)."
   ]
  },
  {
   "cell_type": "code",
   "execution_count": 130,
   "metadata": {
    "ExecuteTime": {
     "end_time": "2022-10-31T20:25:43.060678Z",
     "start_time": "2022-10-31T20:25:43.052101Z"
    },
    "deletable": false,
    "hidden": true,
    "nbgrader": {
     "cell_type": "code",
     "checksum": "f9fa2326b0f5d084ce9385ccd5a2fbd7",
     "grade": false,
     "grade_id": "cell-ddd4e0b6d148fcfd",
     "locked": false,
     "schema_version": 3,
     "solution": true,
     "task": false
    }
   },
   "outputs": [
    {
     "name": "stderr",
     "output_type": "stream",
     "text": [
      "c:\\Users\\Xiaomi\\source\\repos\\PytHSEPr\\PytHSEPr\\HSE_inv\\lib\\site-packages\\ipykernel_launcher.py:7: IntegrationWarning: The integral is probably divergent, or slowly convergent.\n",
      "  import sys\n"
     ]
    }
   ],
   "source": [
    "from scipy.integrate import quad\n",
    "import scipy.special as sp\n",
    "import numpy as np\n",
    "from math import sin, cos, exp, tanh\n",
    "n = 2340\n",
    "def integ_1():\n",
    "    return cos(1) - n/2 * quad(lambda x: sin(cos(n*x)) / (n*x)**2, 0,float('inf') )[0]\n",
    "integ_1()\n",
    "def integ():\n",
    "    return 1128329/2949120 * np.pi"
   ]
  },
  {
   "attachments": {},
   "cell_type": "markdown",
   "metadata": {},
   "source": [
    "Заметим что $cos(x) < 1 < pi/2$  тогда хорошо работает апппроксимациая тейлора, разложив в получим\n",
    "$$\\int_0^\\infty \\sum \\cfrac{\\sin(x) \\cos(x)^{2n}}{x n!} dx$$\n",
    "Вспоминаем что:\n",
    "$$\\cos(x) = \\sqrt{1 - sin^2(x)} \\Rightarrow \\cos^{2n}(x) = (1 - sin^2(x))^n = \\sum C_n^k (-1)^k\\sin(x)^k$$\n",
    "РАзложив например до 10 степени найдем получим интегралы типа\n",
    "$$Const \\int_0^{\\infty} \\cfrac{\\sin^n(x)}{x} dx$$\n",
    "А это табличные интегралы.\n",
    "Достаточно очевидно ($\\sin(x)^n$ это функция осцилирующая при росте n вклад уменьшается, еще важно что полюса в 0 нет поэтому каждый интеграл дает конечный вклад), что каждый следующий интеграл даст значение много меньше предыдущего поэтому достаточно взчть 10 первый зазложений."
   ]
  },
  {
   "cell_type": "code",
   "execution_count": 68,
   "metadata": {
    "deletable": false,
    "editable": false,
    "hidden": true,
    "nbgrader": {
     "cell_type": "code",
     "checksum": "28f736930b29b8de099e68693bd5f160",
     "grade": true,
     "grade_id": "cell-b341c2ce36bc957d",
     "locked": true,
     "points": 10,
     "schema_version": 3,
     "solution": false,
     "task": false
    }
   },
   "outputs": [],
   "source": [
    "from numpy.testing import assert_allclose\n",
    "\n",
    "# this is a test cell, keep it intact\n"
   ]
  }
 ],
 "metadata": {
  "kernelspec": {
   "display_name": "HSE_inv",
   "language": "python",
   "name": "python3"
  },
  "language_info": {
   "codemirror_mode": {
    "name": "ipython",
    "version": 3
   },
   "file_extension": ".py",
   "mimetype": "text/x-python",
   "name": "python",
   "nbconvert_exporter": "python",
   "pygments_lexer": "ipython3",
   "version": "3.7.8"
  },
  "latex_envs": {
   "LaTeX_envs_menu_present": true,
   "autoclose": true,
   "autocomplete": false,
   "bibliofile": "biblio.bib",
   "cite_by": "apalike",
   "current_citInitial": 1,
   "eqLabelWithNumbers": true,
   "eqNumInitial": 1,
   "hotkeys": {
    "equation": "Ctrl-E",
    "itemize": "Ctrl-I"
   },
   "labels_anchors": false,
   "latex_user_defs": false,
   "report_style_numbering": false,
   "user_envs_cfg": false
  },
  "toc": {
   "base_numbering": 1,
   "nav_menu": {},
   "number_sections": true,
   "sideBar": true,
   "skip_h1_title": false,
   "title_cell": "Table of Contents",
   "title_sidebar": "Contents",
   "toc_cell": false,
   "toc_position": {},
   "toc_section_display": true,
   "toc_window_display": false
  },
  "vscode": {
   "interpreter": {
    "hash": "8b82f976652509393231d21f6d72c55f4fbb2261d07a9ff29c888453aab2d8ec"
   }
  }
 },
 "nbformat": 4,
 "nbformat_minor": 4
}
